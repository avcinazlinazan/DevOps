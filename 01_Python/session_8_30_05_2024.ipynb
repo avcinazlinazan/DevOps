{
 "cells": [
  {
   "cell_type": "markdown",
   "metadata": {},
   "source": [
    "# for loop"
   ]
  },
  {
   "cell_type": "code",
   "execution_count": 1,
   "metadata": {},
   "outputs": [
    {
     "data": {
      "text/plain": [
       "True"
      ]
     },
     "execution_count": 1,
     "metadata": {},
     "output_type": "execute_result"
    }
   ],
   "source": [
    "5 in [1,2,3,4,5]"
   ]
  },
  {
   "cell_type": "code",
   "execution_count": 2,
   "metadata": {},
   "outputs": [
    {
     "data": {
      "text/plain": [
       "False"
      ]
     },
     "execution_count": 2,
     "metadata": {},
     "output_type": "execute_result"
    }
   ],
   "source": [
    "6 in [1,2,3,4,5]"
   ]
  },
  {
   "cell_type": "code",
   "execution_count": 3,
   "metadata": {},
   "outputs": [
    {
     "name": "stdout",
     "output_type": "stream",
     "text": [
      "t\n",
      "e\n",
      "c\n",
      "h\n",
      "p\n",
      "r\n",
      "o\n"
     ]
    }
   ],
   "source": [
    "# for içerisinde yer alan collection type'ın iterable özellikte olması gerekir\n",
    "\n",
    "for i in \"techpro\":\n",
    "      print(i)      \n"
   ]
  },
  {
   "cell_type": "code",
   "execution_count": 4,
   "metadata": {},
   "outputs": [
    {
     "name": "stdout",
     "output_type": "stream",
     "text": [
      "1\n",
      "4\n",
      "9\n",
      "16\n",
      "25\n"
     ]
    }
   ],
   "source": [
    "for i in [1,2,3,4,5]:      # liste ile döngü\n",
    "    print(i ** 2)"
   ]
  },
  {
   "cell_type": "code",
   "execution_count": 7,
   "metadata": {},
   "outputs": [
    {
     "name": "stdout",
     "output_type": "stream",
     "text": [
      "1\n",
      "4\n",
      "9\n",
      "16\n",
      "25\n"
     ]
    }
   ],
   "source": [
    "for i in (1,2,3,4,5):       # tuple ile döngü\n",
    "    print(i ** 2)"
   ]
  },
  {
   "cell_type": "code",
   "execution_count": 10,
   "metadata": {},
   "outputs": [
    {
     "name": "stdout",
     "output_type": "stream",
     "text": [
      "1\n",
      "4\n",
      "9\n",
      "16\n",
      "25\n"
     ]
    }
   ],
   "source": [
    "for i in {1,2,3,4,5}:       # set ile döngü (süslü parantez)\n",
    "    print(i ** 2)"
   ]
  },
  {
   "cell_type": "code",
   "execution_count": 11,
   "metadata": {},
   "outputs": [
    {
     "name": "stdout",
     "output_type": "stream",
     "text": [
      "ali\n",
      "can\n",
      "ata\n"
     ]
    }
   ],
   "source": [
    "for i in [\"ali\",\"can\",\"ata\"]:       # string ifadeler ile döngü \n",
    "    print(i)"
   ]
  },
  {
   "cell_type": "code",
   "execution_count": 9,
   "metadata": {},
   "outputs": [
    {
     "data": {
      "text/plain": [
       "int"
      ]
     },
     "execution_count": 9,
     "metadata": {},
     "output_type": "execute_result"
    }
   ],
   "source": [
    "type(12345)"
   ]
  },
  {
   "cell_type": "code",
   "execution_count": 8,
   "metadata": {},
   "outputs": [
    {
     "ename": "TypeError",
     "evalue": "'int' object is not iterable",
     "output_type": "error",
     "traceback": [
      "\u001b[1;31m---------------------------------------------------------------------------\u001b[0m",
      "\u001b[1;31mTypeError\u001b[0m                                 Traceback (most recent call last)",
      "Cell \u001b[1;32mIn[8], line 1\u001b[0m\n\u001b[1;32m----> 1\u001b[0m \u001b[38;5;28;01mfor\u001b[39;00m i \u001b[38;5;129;01min\u001b[39;00m \u001b[38;5;241m12345\u001b[39m:\n\u001b[0;32m      2\u001b[0m     \u001b[38;5;28mprint\u001b[39m(i \u001b[38;5;241m*\u001b[39m\u001b[38;5;241m*\u001b[39m \u001b[38;5;241m2\u001b[39m)\n",
      "\u001b[1;31mTypeError\u001b[0m: 'int' object is not iterable"
     ]
    }
   ],
   "source": [
    "for i in 12345:      \n",
    "    print(i ** 2)"
   ]
  },
  {
   "cell_type": "code",
   "execution_count": 5,
   "metadata": {},
   "outputs": [
    {
     "name": "stdout",
     "output_type": "stream",
     "text": [
      "1\n",
      "4\n",
      "9\n",
      "16\n",
      "25\n"
     ]
    }
   ],
   "source": [
    "# for loop\n",
    "\n",
    "for i in range(1,6):    \n",
    "    print(i ** 2)"
   ]
  },
  {
   "cell_type": "code",
   "execution_count": 6,
   "metadata": {},
   "outputs": [
    {
     "name": "stdout",
     "output_type": "stream",
     "text": [
      "1\n",
      "4\n",
      "9\n",
      "16\n",
      "25\n"
     ]
    }
   ],
   "source": [
    "# while loop\n",
    "\n",
    "liste = [1,2,3,4,5]       \n",
    "\n",
    "x = 0\n",
    "\n",
    "while x < len(liste):\n",
    "    print(liste[x] ** 2)\n",
    "\n",
    "    x += 1"
   ]
  },
  {
   "cell_type": "code",
   "execution_count": 13,
   "metadata": {},
   "outputs": [
    {
     "name": "stdout",
     "output_type": "stream",
     "text": [
      "Ali-Can-Ata-"
     ]
    }
   ],
   "source": [
    "for i in [\"ali\",\"can\",\"ata\"]:       # string ifadeler ile döngü     -   title() ilk harfi büyük yapar\n",
    "    print(i.title(), end = \"-\")"
   ]
  },
  {
   "cell_type": "code",
   "execution_count": 15,
   "metadata": {},
   "outputs": [
    {
     "name": "stdout",
     "output_type": "stream",
     "text": [
      "Ali Can Ata "
     ]
    }
   ],
   "source": [
    "for i in [\"ali\",\"can\",\"ata\"]:       # string ifadeler ile döngü \n",
    "    print(i.title(), end = \" \")"
   ]
  },
  {
   "cell_type": "code",
   "execution_count": 16,
   "metadata": {},
   "outputs": [
    {
     "data": {
      "text/plain": [
       "{'name': 'ali', 'age': 25, 'job': 'aws_dev'}"
      ]
     },
     "execution_count": 16,
     "metadata": {},
     "output_type": "execute_result"
    }
   ],
   "source": [
    "dict_1 = {\"name\" : \"ali\", \"age\" : 25, \"job\" : \"aws_dev\"}\n",
    "dict_1"
   ]
  },
  {
   "cell_type": "code",
   "execution_count": 17,
   "metadata": {},
   "outputs": [
    {
     "name": "stdout",
     "output_type": "stream",
     "text": [
      "name\n",
      "age\n",
      "job\n"
     ]
    }
   ],
   "source": [
    "for i in dict_1:        # key değerlerini getirir\n",
    "    print(i)"
   ]
  },
  {
   "cell_type": "code",
   "execution_count": 18,
   "metadata": {},
   "outputs": [
    {
     "name": "stdout",
     "output_type": "stream",
     "text": [
      "('name', 'ali')\n",
      "('age', 25)\n",
      "('job', 'aws_dev')\n"
     ]
    }
   ],
   "source": [
    "for i in dict_1.items():        # key değerlerini getirir\n",
    "    print(i)"
   ]
  },
  {
   "cell_type": "code",
   "execution_count": 19,
   "metadata": {},
   "outputs": [
    {
     "name": "stdout",
     "output_type": "stream",
     "text": [
      "name\n",
      "age\n",
      "job\n"
     ]
    }
   ],
   "source": [
    "for i in dict_1.keys():        # key değerlerini getirir\n",
    "    print(i)"
   ]
  },
  {
   "cell_type": "code",
   "execution_count": 20,
   "metadata": {},
   "outputs": [
    {
     "name": "stdout",
     "output_type": "stream",
     "text": [
      "ali\n",
      "25\n",
      "aws_dev\n"
     ]
    }
   ],
   "source": [
    "for i in dict_1.values():        # key değerlerini getirir\n",
    "    print(i)"
   ]
  },
  {
   "cell_type": "code",
   "execution_count": null,
   "metadata": {},
   "outputs": [],
   "source": [
    "# for ile sonsuz döngü \n",
    "\n",
    "liste = [\"for ile sonsuza gitme\"]\n",
    "\n",
    "for i in liste:\n",
    "\n",
    "    print(i)\n",
    "\n",
    "    liste.append(i)     # bu işlem ile listeye aynı eleman eklendi"
   ]
  },
  {
   "cell_type": "code",
   "execution_count": 24,
   "metadata": {},
   "outputs": [
    {
     "name": "stdout",
     "output_type": "stream",
     "text": [
      "8 x 1  =  8\n",
      "8 x 2  =  16\n",
      "8 x 3  =  24\n",
      "8 x 4  =  32\n",
      "8 x 5  =  40\n",
      "8 x 6  =  48\n",
      "8 x 7  =  56\n",
      "8 x 8  =  64\n",
      "8 x 9  =  72\n",
      "8 x 10  =  80\n"
     ]
    }
   ],
   "source": [
    "# istediğimizin rakamın çarpım tablosunu yazdırma\n",
    "\n",
    "sayı = int(input(\"lütfen 1 - 10 arası rakam giriniz\"))\n",
    "\n",
    "if 1 <= sayı <= 10:                                  # if 1 <= sayı  and sayı <= 10:\n",
    "\n",
    "    for x in range(1,11):\n",
    "\n",
    "        print(sayı, \"x\", x, \" = \", sayı*x )\n",
    "\n",
    "else:\n",
    "    print(\"yanlış sayı girdiniz\")"
   ]
  },
  {
   "cell_type": "code",
   "execution_count": 25,
   "metadata": {},
   "outputs": [
    {
     "name": "stdout",
     "output_type": "stream",
     "text": [
      "1 den 50 ye toplam =  1275\n"
     ]
    }
   ],
   "source": [
    "# 1 den 50 ye kadar sayıları topla\n",
    "\n",
    "toplam = 0\n",
    "\n",
    "for i in range(1,51):\n",
    "\n",
    "    toplam += i                 # toplam = toplam + i\n",
    "\n",
    "print(\"1 den 50 ye toplam = \",toplam)"
   ]
  },
  {
   "cell_type": "markdown",
   "metadata": {},
   "source": [
    "### break - continue"
   ]
  },
  {
   "cell_type": "code",
   "execution_count": 26,
   "metadata": {},
   "outputs": [
    {
     "data": {
      "text/plain": [
       "[1, 2, 3, 4, 5, 6, 7, 8, 9]"
      ]
     },
     "execution_count": 26,
     "metadata": {},
     "output_type": "execute_result"
    }
   ],
   "source": [
    "liste_1 = [1,2,3,4,5,6,7,8,9]\n",
    "liste_1"
   ]
  },
  {
   "cell_type": "code",
   "execution_count": 27,
   "metadata": {},
   "outputs": [
    {
     "name": "stdout",
     "output_type": "stream",
     "text": [
      "3'e bölünenlerin toplamı =  18\n"
     ]
    }
   ],
   "source": [
    "# 1-9 arası 3'e bölünenlerin toplamı\n",
    "\n",
    "toplam = 0 \n",
    "\n",
    "for i in liste_1:\n",
    "\n",
    "    if i % 3 == 0:\n",
    "\n",
    "        toplam += i\n",
    "\n",
    "print(\"3'e bölünenlerin toplamı = \", toplam)"
   ]
  },
  {
   "cell_type": "code",
   "execution_count": 28,
   "metadata": {},
   "outputs": [
    {
     "name": "stdout",
     "output_type": "stream",
     "text": [
      "3'e bölünenlerin toplamı =  18\n"
     ]
    }
   ],
   "source": [
    "# 1-9 arası 3'e bölünenlerin toplamı\n",
    "\n",
    "toplam = 0 \n",
    "\n",
    "for i in liste_1:\n",
    "\n",
    "    if i % 3 != 0:\n",
    "\n",
    "        continue\n",
    "\n",
    "    toplam += i\n",
    "\n",
    "print(\"3'e bölünenlerin toplamı = \", toplam)"
   ]
  },
  {
   "cell_type": "code",
   "execution_count": 29,
   "metadata": {},
   "outputs": [
    {
     "name": "stdout",
     "output_type": "stream",
     "text": [
      "çift sayılar =  [2, 8, 32, 14, 18, 22]\n",
      "tek sayılar =  [1, 15, 9, 65, 41]\n"
     ]
    }
   ],
   "source": [
    "# 28. sayıya kadar tek ve çift olnnları listeye ata ve yazdır\n",
    "\n",
    "liste_2 = [1,15,2,8,9,32,65,41,14,18,22,28,71,85,98,91]    # 28\n",
    "\n",
    "tek = []\n",
    "cift = []\n",
    "\n",
    "for i in liste_2:\n",
    "\n",
    "    if i == 28:\n",
    "\n",
    "        break\n",
    "\n",
    "    if i % 2 == 0:\n",
    "        cift.append(i)\n",
    "\n",
    "    else:\n",
    "        tek.append(i)\n",
    "\n",
    "print(\"çift sayılar = \", cift)\n",
    "\n",
    "print(\"tek sayılar = \", tek)"
   ]
  },
  {
   "cell_type": "code",
   "execution_count": null,
   "metadata": {},
   "outputs": [],
   "source": []
  },
  {
   "cell_type": "code",
   "execution_count": null,
   "metadata": {},
   "outputs": [],
   "source": []
  }
 ],
 "metadata": {
  "kernelspec": {
   "display_name": "base",
   "language": "python",
   "name": "python3"
  },
  "language_info": {
   "codemirror_mode": {
    "name": "ipython",
    "version": 3
   },
   "file_extension": ".py",
   "mimetype": "text/x-python",
   "name": "python",
   "nbconvert_exporter": "python",
   "pygments_lexer": "ipython3",
   "version": "3.11.7"
  }
 },
 "nbformat": 4,
 "nbformat_minor": 2
}
