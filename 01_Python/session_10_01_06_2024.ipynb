{
 "cells": [
  {
   "cell_type": "markdown",
   "metadata": {},
   "source": [
    "# Örnek Sorular"
   ]
  },
  {
   "cell_type": "markdown",
   "metadata": {},
   "source": [
    "## 1"
   ]
  },
  {
   "cell_type": "code",
   "execution_count": 1,
   "metadata": {},
   "outputs": [
    {
     "data": {
      "text/plain": [
       "6"
      ]
     },
     "execution_count": 1,
     "metadata": {},
     "output_type": "execute_result"
    }
   ],
   "source": [
    "max([1,2,3,4,5,6])"
   ]
  },
  {
   "cell_type": "code",
   "execution_count": 1,
   "metadata": {},
   "outputs": [],
   "source": [
    "# Kullanıcıdan girilen 3 sayının en büyük olanı yazdırın\n",
    "\n",
    "def max_number(x,y,z):\n",
    "\n",
    "    return f\"Girdiğiniz sayının en büyük olanı: {max(x,y,z)}\"\n"
   ]
  },
  {
   "cell_type": "code",
   "execution_count": 4,
   "metadata": {},
   "outputs": [
    {
     "data": {
      "text/plain": [
       "'Girdiğiniz sayının en büyük olanı: 9'"
      ]
     },
     "execution_count": 4,
     "metadata": {},
     "output_type": "execute_result"
    }
   ],
   "source": [
    "\n",
    "n1 = int(input(\"1. sayıyı giriniz\"))\n",
    "n2 = int(input(\"2. sayıyı giriniz\"))\n",
    "n3 = int(input(\"3. sayıyı giriniz\"))\n",
    "\n",
    "max_number(n1,n2,n3)"
   ]
  },
  {
   "cell_type": "code",
   "execution_count": null,
   "metadata": {},
   "outputs": [],
   "source": [
    "# 2. yol\n",
    "\n",
    "n1 = int(input(\"1. sayıyı giriniz\"))\n",
    "n2 = int(input(\"2. sayıyı giriniz\"))\n",
    "n3 = int(input(\"3. sayıyı giriniz\"))\n",
    "\n",
    "liste = [n1,n2,n3]\n",
    "\n",
    "print(max(liste))"
   ]
  },
  {
   "cell_type": "code",
   "execution_count": null,
   "metadata": {},
   "outputs": [],
   "source": [
    "# 3. yol - listeyi biz giriyoruz\n",
    "\n",
    "def myMax(liste):\n",
    "    x = liste[0]\n",
    "    for i in liste:\n",
    "        if x < i:\n",
    "            x=i\n",
    "    return x"
   ]
  },
  {
   "cell_type": "markdown",
   "metadata": {},
   "source": [
    "## 2"
   ]
  },
  {
   "cell_type": "code",
   "execution_count": 2,
   "metadata": {},
   "outputs": [
    {
     "name": "stdout",
     "output_type": "stream",
     "text": [
      "girilen kelimenin tersi:  ralabahrem\n"
     ]
    }
   ],
   "source": [
    "# kullanıcının girdiği kelimeyi tersten yazdıralım\n",
    "\n",
    "girdi = \"merhabalar\"\n",
    "\n",
    "print(\"girilen kelimenin tersi: \",girdi[::-1])"
   ]
  },
  {
   "cell_type": "code",
   "execution_count": null,
   "metadata": {},
   "outputs": [],
   "source": [
    "# 2. yol input ile\n",
    "\n",
    "kelime = input(\"Bir kelime girin: \")\n",
    "kelime_ters = kelime[::-1]\n",
    "print(f\"Girdiğiniz kelimenin tersten yazılışı: {kelime_ters}\")"
   ]
  },
  {
   "cell_type": "code",
   "execution_count": 3,
   "metadata": {},
   "outputs": [
    {
     "name": "stdout",
     "output_type": "stream",
     "text": [
      "girilen kelimenin tersi:  ralabahrem\n"
     ]
    }
   ],
   "source": [
    "\n",
    "girdi = \"merhabalar\"\n",
    "\n",
    "girdi_ters = \"\"\n",
    "\n",
    "for i in girdi:\n",
    "\n",
    "    girdi_ters = i + girdi_ters      # \"girdi_ters + i\" bu şekilde yine aynı kelimeyi yazdırmış oluruz\n",
    "\n",
    "print(\"girilen kelimenin tersi: \",girdi_ters)"
   ]
  },
  {
   "cell_type": "markdown",
   "metadata": {},
   "source": [
    "# 3"
   ]
  },
  {
   "cell_type": "code",
   "execution_count": 6,
   "metadata": {},
   "outputs": [
    {
     "name": "stdout",
     "output_type": "stream",
     "text": [
      "5 sayısının faktöriyeli : 120\n"
     ]
    }
   ],
   "source": [
    "# faktöriyel alma işlemi\n",
    "\n",
    "number = int(input(\"lütfen bir sayı giriniz:\"))\n",
    "\n",
    "sayı = 1\n",
    "\n",
    "for i in range(1, number + 1):\n",
    "\n",
    "    sayı = sayı * i\n",
    "\n",
    "print(f\"{number} sayısının faktöriyeli : {sayı}\")\n",
    "\n"
   ]
  },
  {
   "cell_type": "code",
   "execution_count": 8,
   "metadata": {},
   "outputs": [
    {
     "name": "stdout",
     "output_type": "stream",
     "text": [
      "1 faktöriyel: 1\n"
     ]
    }
   ],
   "source": [
    "# 2. yol\n",
    "\n",
    "def faktoriyel(sayi):\n",
    "  if sayi == 0 or sayi == 1:\n",
    "    return 1\n",
    "  else:\n",
    "    return sayi * faktoriyel(sayi - 1)\n",
    "sayi = int(input(\"Bir sayı giriniz: \"))\n",
    "if sayi < 0:\n",
    "  print(\"Faktöriyel negatif sayılar için hesaplanamaz.\")\n",
    "else:\n",
    "  faktoriyel_sonucu = faktoriyel(sayi)\n",
    "  print(f\"{sayi} faktöriyel: {faktoriyel_sonucu}\")"
   ]
  },
  {
   "cell_type": "code",
   "execution_count": null,
   "metadata": {},
   "outputs": [],
   "source": [
    "# 3. yol\n",
    "\n",
    "def faktoriyel(n):\n",
    "    if n < 0:\n",
    "        return \"Negatif sayıların faktöriyeli tanımsızdır.\"\n",
    "    elif n == 0 or n == 1:\n",
    "        return 1\n",
    "    else:\n",
    "        sonuc = 1\n",
    "        for i in range(2, n + 1):\n",
    "            sonuc *= i\n",
    "        return sonuc\n",
    "\n",
    "sayi = int(input(\"Bir sayı girin: \"))\n",
    "\n",
    "print(f\"{sayi}! = {faktoriyel(sayi)}\")"
   ]
  },
  {
   "cell_type": "markdown",
   "metadata": {},
   "source": [
    "# 4"
   ]
  },
  {
   "cell_type": "code",
   "execution_count": null,
   "metadata": {},
   "outputs": [],
   "source": [
    "# girilen cümlede ki büyük ve küçük harf sayısını veren program yazınız"
   ]
  },
  {
   "cell_type": "code",
   "execution_count": 10,
   "metadata": {},
   "outputs": [
    {
     "name": "stdout",
     "output_type": "stream",
     "text": [
      "Büyük harf sayısı 5 ----- Küçük harf sayısı 7\n"
     ]
    }
   ],
   "source": [
    "metin = input(\"bir cümle giriniz:\")\n",
    "\n",
    "upper = 0\n",
    "lower = 0\n",
    "\n",
    "for i in metin:\n",
    "\n",
    "    lower += i.islower()\n",
    "    upper += i.isupper()\n",
    "\n",
    "print(f\"Büyük harf sayısı {upper} ----- Küçük harf sayısı {lower}\")"
   ]
  },
  {
   "cell_type": "code",
   "execution_count": 11,
   "metadata": {},
   "outputs": [
    {
     "data": {
      "text/plain": [
       "False"
      ]
     },
     "execution_count": 11,
     "metadata": {},
     "output_type": "execute_result"
    }
   ],
   "source": [
    "\"B\".islower()"
   ]
  },
  {
   "cell_type": "code",
   "execution_count": 12,
   "metadata": {},
   "outputs": [
    {
     "data": {
      "text/plain": [
       "True"
      ]
     },
     "execution_count": 12,
     "metadata": {},
     "output_type": "execute_result"
    }
   ],
   "source": [
    "\"B\".isupper()"
   ]
  },
  {
   "cell_type": "code",
   "execution_count": 13,
   "metadata": {},
   "outputs": [
    {
     "data": {
      "text/plain": [
       "True"
      ]
     },
     "execution_count": 13,
     "metadata": {},
     "output_type": "execute_result"
    }
   ],
   "source": [
    "\"B\".isalpha()"
   ]
  },
  {
   "cell_type": "code",
   "execution_count": 14,
   "metadata": {},
   "outputs": [
    {
     "data": {
      "text/plain": [
       "False"
      ]
     },
     "execution_count": 14,
     "metadata": {},
     "output_type": "execute_result"
    }
   ],
   "source": [
    "\"B\".isdecimal()"
   ]
  },
  {
   "cell_type": "code",
   "execution_count": null,
   "metadata": {},
   "outputs": [],
   "source": [
    "# 2. yol\n",
    "\n",
    "def buyuk_ve_kucuk_harf_sayisi(cumle):\n",
    "    buyuk_harf_sayisi = 0\n",
    "    kucuk_harf_sayisi = 0\n",
    "\n",
    "    for karakter in cumle:\n",
    "        if karakter.isupper():\n",
    "            buyuk_harf_sayisi += 1\n",
    "        elif karakter.islower():\n",
    "            kucuk_harf_sayisi += 1\n",
    "\n",
    "    return buyuk_harf_sayisi, kucuk_harf_sayisi\n",
    "\n",
    "cumle = input(\"Bir cümle girin: \")\n",
    "\n",
    "buyuk_harf_sayisi, kucuk_harf_sayisi = buyuk_ve_kucuk_harf_sayisi(cumle)\n",
    "\n",
    "\n",
    "print(f\"Büyük harf sayısı: {buyuk_harf_sayisi}\")\n",
    "print(f\"Küçük harf sayısı: {kucuk_harf_sayisi}\")"
   ]
  },
  {
   "cell_type": "code",
   "execution_count": null,
   "metadata": {},
   "outputs": [],
   "source": [
    "# 3. yol\n",
    "\n",
    "word = input()\n",
    "upper,lower = 0,0\n",
    "\n",
    "for i in word:\n",
    "    if 'a'<=i and i<='z' :       # ASCİİ code üzerinden çözüm \n",
    "        lower+=1\n",
    "    if 'A'<=i and i<='Z':\n",
    "        upper+=1\n",
    "\n",
    "print(\"UPPER CASE {0}\\nLOWER CASE {1}\".format(upper,lower))"
   ]
  },
  {
   "cell_type": "markdown",
   "metadata": {},
   "source": [
    "# 5"
   ]
  },
  {
   "cell_type": "code",
   "execution_count": 16,
   "metadata": {},
   "outputs": [
    {
     "name": "stdout",
     "output_type": "stream",
     "text": [
      "girilen cümlede 17 harf, 3 sayı vardır\n"
     ]
    }
   ],
   "source": [
    "# girilen cümlede ki harf ve sayıların sayısını döndüren program yazınız \n",
    "\n",
    "word = input()\n",
    "sayı , harf = 0,0\n",
    "\n",
    "for i in word:\n",
    "\n",
    "    if i.isalpha():\n",
    "        harf += 1 \n",
    "\n",
    "    elif i.isnumeric():\n",
    "        sayı += 1\n",
    "\n",
    "print(f\"girilen cümlede {harf} harf, {sayı} sayı vardır\")"
   ]
  },
  {
   "cell_type": "code",
   "execution_count": null,
   "metadata": {},
   "outputs": [],
   "source": [
    "# 2. yol fonksiyon ile \n",
    "\n",
    "def harf_sayi(kelime):\n",
    "    harf=0 \n",
    "    sayi=0\n",
    "    for i in kelime:\n",
    "        harf += i.isalpha()\n",
    "        sayi += i.isnumeric()\n",
    "    print(f\"harf sayisi: {harf}, numar sayisi: {sayi}\")\n",
    "\n",
    "\n",
    "k = input(\"Cumle giriniz: \")\n",
    "harf_sayi(k)"
   ]
  },
  {
   "cell_type": "code",
   "execution_count": 17,
   "metadata": {},
   "outputs": [],
   "source": [
    "# 3. yol list comprehension ile çözüm\n",
    "\n",
    "cumle = input(\"Bir cümle girin: \")\n",
    "\n",
    "\n",
    "harf_sayisi = sum(1 for karakter in cumle if karakter.isalpha())\n",
    "sayi_sayisi = sum(1 for karakter in cumle if karakter.isdigit())      # isdigit isnumeric' e göre daha dar bir grubu temsil eder\n",
    " \n",
    "\n",
    "print(f\"Harf sayısı: {harf_sayisi}\")\n",
    "print(f\"Sayı sayısı: {sayi_sayisi}\")"
   ]
  },
  {
   "cell_type": "markdown",
   "metadata": {},
   "source": [
    "# 6"
   ]
  },
  {
   "cell_type": "code",
   "execution_count": 21,
   "metadata": {},
   "outputs": [
    {
     "name": "stdout",
     "output_type": "stream",
     "text": [
      "sesli harf sayısı: 4 ------ sessiz harf sayısı: 6\n"
     ]
    }
   ],
   "source": [
    "# kullanıcının girdiği kelimede kaç adet sesli ve sessiz harf var döndüren programı yazınız\n",
    "\n",
    "yazı = input().lower()        # lower ile büyük sesli harf girme olasılığını da dahil etmiş olduk işleme\n",
    "\n",
    "sesli = \"aeıioöuü\"\n",
    "\n",
    "sesli_sayac = 0\n",
    "\n",
    "for i in yazı:\n",
    "    if i in sesli:\n",
    "\n",
    "        sesli_sayac += 1\n",
    "print(f\"sesli harf sayısı: {sesli_sayac} ------ sessiz harf sayısı: {len(yazı) - sesli_sayac}\")"
   ]
  },
  {
   "cell_type": "markdown",
   "metadata": {},
   "source": [
    "# 7"
   ]
  },
  {
   "cell_type": "code",
   "execution_count": 22,
   "metadata": {},
   "outputs": [
    {
     "name": "stdout",
     "output_type": "stream",
     "text": [
      "[52, 32, 42]\n",
      "girilen sayıların toplamı = 126\n",
      "girilen sayıların ortalaması = 42.0\n"
     ]
    }
   ],
   "source": [
    "# kullanıcıdan istediği kadar sayı girmesini sağlayıp onların toplamını ve ortalamasını döndüren programı yazınız\n",
    "\n",
    "adet = int(input(\"kaç adet sayı girmek istersiniz?\"))\n",
    "\n",
    "liste = []\n",
    "\n",
    "for i in range(adet):\n",
    "\n",
    "    liste.append(int(input(\"sayıları giriniz:\")))\n",
    "\n",
    "print(liste)\n",
    "\n",
    "toplam = 0\n",
    "\n",
    "for j in liste:\n",
    "    toplam += j        # toplam = sum(liste)\n",
    "    \n",
    "print(f\"girilen sayıların toplamı = {toplam}\")\n",
    "print(f\"girilen sayıların ortalaması = {toplam / adet}\")\n",
    "\n"
   ]
  },
  {
   "cell_type": "code",
   "execution_count": 23,
   "metadata": {},
   "outputs": [
    {
     "name": "stdout",
     "output_type": "stream",
     "text": [
      "[52, 32, 42]\n",
      "girilen sayıların toplamı = 126\n",
      "girilen sayıların ortalaması = 42.0\n"
     ]
    }
   ],
   "source": [
    "adet = int(input(\"kaç adet sayı girmek istersiniz?\"))\n",
    "\n",
    "liste = []\n",
    "\n",
    "for i in range(adet):\n",
    "\n",
    "    liste.append(int(input(\"sayıları giriniz:\")))    # burada ki input adet sayısı kadar çalışır \n",
    "\n",
    "print(liste)\n",
    "\n",
    "toplam = sum(liste)\n",
    "    \n",
    "print(f\"girilen sayıların toplamı = {toplam}\")\n",
    "print(f\"girilen sayıların ortalaması = {toplam / adet}\")"
   ]
  },
  {
   "cell_type": "markdown",
   "metadata": {},
   "source": [
    "https://github.com/MertUrper/Python_Notes/blob/main/Python_Functions%20_Assignment.ipynb"
   ]
  },
  {
   "cell_type": "markdown",
   "metadata": {},
   "source": [
    "https://github.com/MertUrper/Python_Notes/blob/main/Python_Exercises_1.ipynb"
   ]
  },
  {
   "cell_type": "code",
   "execution_count": null,
   "metadata": {},
   "outputs": [],
   "source": []
  }
 ],
 "metadata": {
  "kernelspec": {
   "display_name": "base",
   "language": "python",
   "name": "python3"
  },
  "language_info": {
   "codemirror_mode": {
    "name": "ipython",
    "version": 3
   },
   "file_extension": ".py",
   "mimetype": "text/x-python",
   "name": "python",
   "nbconvert_exporter": "python",
   "pygments_lexer": "ipython3",
   "version": "3.11.7"
  }
 },
 "nbformat": 4,
 "nbformat_minor": 2
}
